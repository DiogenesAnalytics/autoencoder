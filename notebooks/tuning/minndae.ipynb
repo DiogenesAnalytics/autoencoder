{
 "cells": [
  {
   "cell_type": "markdown",
   "id": "2fbbb7d1-409e-48c3-b3f1-d055b335486c",
   "metadata": {},
   "source": [
    "# Hyperparameter Tuning: MinNDAE\n",
    "In this *Jupyter Notebook* the goal is to find the *optimal hyperparameters* for the `MinNDAE` model using the Kera's `MNIST` dataset as the baseline/standard dataset."
   ]
  },
  {
   "cell_type": "markdown",
   "id": "4beb03a4-6443-4952-9ab7-d713414a6679",
   "metadata": {},
   "source": [
    "## Setup\n",
    "Need to get the necessary packages ..."
   ]
  },
  {
   "cell_type": "code",
   "execution_count": null,
   "id": "988ef4c5-55b7-45d8-ba1d-886901ad4d7c",
   "metadata": {},
   "outputs": [],
   "source": [
    "# check for colab\n",
    "if \"google.colab\" in str(get_ipython()):\n",
    "  # install colab dependencies\n",
    "  !pip install git+https://github.com/DiogenesAnalytics/autoencoder"
   ]
  },
  {
   "cell_type": "markdown",
   "id": "1b30698e-0e05-4687-a5dc-5b237c9617c8",
   "metadata": {},
   "source": [
    "## Get MNIST Data\n",
    "Wille use `keras.datasets` to get the `MNIST` dataset, and then do some *normalizing* and *reshaping* to prepare it for use in training the *autoencoder*."
   ]
  },
  {
   "cell_type": "code",
   "execution_count": null,
   "id": "b377de50-992c-4bff-bd1b-e0ce5330ec77",
   "metadata": {},
   "outputs": [],
   "source": [
    "# get necessary libs for data/preprocessing\n",
    "import tensorflow as tf\n",
    "from keras.datasets import mnist\n",
    "\n",
    "# load the data\n",
    "(x_train, _), (x_test, _) = mnist.load_data()\n",
    "\n",
    "# preprocess the data (normalize)\n",
    "x_train = x_train.astype(\"float32\") / 255.\n",
    "x_test = x_test.astype(\"float32\") / 255.\n",
    "\n",
    "# add grayscale dimension\n",
    "x_train = tf.expand_dims(x_train, axis=-1)\n",
    "x_test = tf.expand_dims(x_test, axis=-1)\n",
    "\n",
    "# convert to tf datasets\n",
    "train_ds = tf.data.Dataset.from_tensor_slices((x_train, x_train))\n",
    "test_ds = tf.data.Dataset.from_tensor_slices((x_test, x_test))\n",
    "\n",
    "# set a few params\n",
    "BATCH_SIZE = 64\n",
    "SHUFFLE_BUFFER_SIZE = 100\n",
    "\n",
    "# update with batch/buffer size\n",
    "train_ds = train_ds.shuffle(SHUFFLE_BUFFER_SIZE).batch(BATCH_SIZE)\n",
    "test_ds = test_ds.batch(BATCH_SIZE)"
   ]
  },
  {
   "cell_type": "markdown",
   "id": "13bf50dc-9add-4b1b-9507-032b6c37d0d5",
   "metadata": {},
   "source": [
    "## Building Hypermodel\n",
    "Here we need to define the *function* that will be used to build the *hyper model* for the `MinNDAE` class."
   ]
  },
  {
   "cell_type": "code",
   "execution_count": null,
   "id": "edd24794-4b11-4922-8f9e-7f41439c2221",
   "metadata": {},
   "outputs": [],
   "source": [
    "from autoencoder.model.minimal import MinNDParams, MinNDAE\n",
    "\n",
    "# define the autoencoder model\n",
    "def build_autoencoder(hp):\n",
    "    # get encoding dimension\n",
    "    code_dim = hp.Int(\"code_dim\", min_value=1, max_value=100, step=1)\n",
    "    \n",
    "    # get layer configs\n",
    "    config = MinNDParams(\n",
    "        l0={\"input_shape\": (28, 28, 1)},\n",
    "        l2={\"units\": code_dim},\n",
    "        l3={\"units\": 28 * 28 * 1},\n",
    "        l4={\"target_shape\": (28, 28, 1)},\n",
    "    )\n",
    "\n",
    "    # create model\n",
    "    autoencoder = MinNDAE(config)\n",
    "        \n",
    "    # select loss function\n",
    "    autoencoder.compile(optimizer=\"adam\", loss=\"mean_squared_error\")\n",
    "\n",
    "    # now return keras model\n",
    "    return autoencoder.model"
   ]
  },
  {
   "cell_type": "markdown",
   "id": "3a99fb3e-0ac3-4ed9-98b3-92d135fa085d",
   "metadata": {},
   "source": [
    "## Hyperparameter Search\n",
    "Now we can begin the *hyperparameter search algorithm*."
   ]
  },
  {
   "cell_type": "code",
   "execution_count": null,
   "id": "fb32211a-c914-43b9-a4fd-e76541eae0f1",
   "metadata": {
    "scrolled": true
   },
   "outputs": [],
   "source": [
    "# get hyperparam tools\n",
    "from keras.callbacks import EarlyStopping\n",
    "from keras_tuner import GridSearch\n",
    "\n",
    "# setup tuner\n",
    "tuner = GridSearch(\n",
    "    build_autoencoder,\n",
    "    objective=\"val_loss\",\n",
    "    max_trials=None,\n",
    "    directory=\"autoencoder_tuning/minndae\",\n",
    "    project_name=f\"code_dim_vs_mse_space/grid_search_1_100\",\n",
    "    seed=42,\n",
    ")\n",
    "\n",
    "# create early stop call backs\n",
    "stop_early = EarlyStopping(monitor=\"val_loss\", patience=2)\n",
    "\n",
    "# generate random search space for hyperparameters\n",
    "tuner.search_space_summary()\n",
    "\n",
    "# run the hyperparameter search\n",
    "tuner.search(train_ds, epochs=10, validation_data=test_ds, callbacks=[stop_early])"
   ]
  },
  {
   "cell_type": "markdown",
   "id": "97164630-a9d4-465b-b678-5a71ff73788e",
   "metadata": {},
   "source": [
    "## Optimal Code Dimension\n",
    "Now we can find the *optimal code dimension* by finding the *x/y pair* that minimizes an *objective function*."
   ]
  },
  {
   "cell_type": "code",
   "execution_count": null,
   "id": "8426bc9b-7525-44b6-9378-80d6a800b290",
   "metadata": {},
   "outputs": [],
   "source": [
    "import matplotlib.pyplot as plt\n",
    "import numpy as np\n",
    "from scipy.optimize import minimize\n",
    "\n",
    "# extract score/encode_dims from each trial\n",
    "code_dims, scores = zip(\n",
    "    *sorted(\n",
    "        ((trial.hyperparameters[\"code_dim\"], trial.score) for trial in tuner.oracle.trials.values()),\n",
    "        key=lambda items: items[0]\n",
    "    )\n",
    ")\n",
    "\n",
    "# convert to numpy arrays\n",
    "data_x = np.array(code_dims)\n",
    "data_y = np.array(scores)\n",
    "\n",
    "# define the objective function\n",
    "def objective_function(xy):\n",
    "    x, y = xy\n",
    "    # use a weighted sum of squared differences as the objective function\n",
    "    return np.sum((data_x - x)**2 + (data_y - y)**2)\n",
    "\n",
    "# use averages as initial guess\n",
    "initial_guess = [np.mean(data_x), np.mean(data_y)]\n",
    "\n",
    "# set bounds for x and y\n",
    "bounds = [(min(data_x), max(data_x)), (min(data_y), max(data_y))]\n",
    "\n",
    "# find the minimum of both x and y\n",
    "result = minimize(objective_function, initial_guess, bounds=bounds)\n",
    "\n",
    "# extract the optimal x, y pair\n",
    "optimal_x, optimal_y = result.x\n",
    "\n",
    "# plotting the result\n",
    "plt.scatter(data_x, data_y, label=\"Model Scores\")\n",
    "plt.title(f\"Performance vs Code Dimension:\\n{MinNDAE.__name__} / MNIST\")\n",
    "plt.axvline(x=optimal_x, color=\"r\", linestyle=\"dashed\", linewidth=2, label=f\"optimal_code_dim: {int(optimal_x)}\")\n",
    "plt.axvline(x=32, color=\"y\", linestyle=\"dashed\", linewidth=2, label=\"keras_default: 32\")\n",
    "plt.xlabel(\"Code Dimension\")\n",
    "plt.ylabel(\"Loss Metric\")\n",
    "plt.legend()\n",
    "plt.show()"
   ]
  }
 ],
 "metadata": {
  "kernelspec": {
   "display_name": "Python 3 (ipykernel)",
   "language": "python",
   "name": "python3"
  },
  "language_info": {
   "codemirror_mode": {
    "name": "ipython",
    "version": 3
   },
   "file_extension": ".py",
   "mimetype": "text/x-python",
   "name": "python",
   "nbconvert_exporter": "python",
   "pygments_lexer": "ipython3",
   "version": "3.11.7"
  }
 },
 "nbformat": 4,
 "nbformat_minor": 5
}
